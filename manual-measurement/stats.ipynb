{
 "cells": [
  {
   "cell_type": "code",
   "execution_count": 1,
   "metadata": {},
   "outputs": [],
   "source": [
    "import pandas as pd\n",
    "import seaborn as sns\n",
    "from matplotlib import pyplot as plt\n",
    "import scipy.stats"
   ]
  },
  {
   "cell_type": "code",
   "execution_count": 2,
   "metadata": {
    "pycharm": {
     "name": "#%%\n"
    }
   },
   "outputs": [
    {
     "data": {
      "text/html": [
       "<div>\n",
       "<style scoped>\n",
       "    .dataframe tbody tr th:only-of-type {\n",
       "        vertical-align: middle;\n",
       "    }\n",
       "\n",
       "    .dataframe tbody tr th {\n",
       "        vertical-align: top;\n",
       "    }\n",
       "\n",
       "    .dataframe thead th {\n",
       "        text-align: right;\n",
       "    }\n",
       "</style>\n",
       "<table border=\"1\" class=\"dataframe\">\n",
       "  <thead>\n",
       "    <tr style=\"text-align: right;\">\n",
       "      <th></th>\n",
       "      <th>ID</th>\n",
       "      <th>URL</th>\n",
       "      <th>Has Consent Dialog?</th>\n",
       "      <th>Has Ads?</th>\n",
       "      <th>Comment</th>\n",
       "      <th>Consent Strategy</th>\n",
       "      <th>Operating System</th>\n",
       "      <th>Browser</th>\n",
       "      <th>Browser Profile</th>\n",
       "      <th>Language</th>\n",
       "      <th>location</th>\n",
       "    </tr>\n",
       "  </thead>\n",
       "  <tbody>\n",
       "    <tr>\n",
       "      <th>0</th>\n",
       "      <td>1</td>\n",
       "      <td>https://www.windowspro.de</td>\n",
       "      <td>yes</td>\n",
       "      <td>generic</td>\n",
       "      <td>&lt;NA&gt;</td>\n",
       "      <td>accept</td>\n",
       "      <td>Windows</td>\n",
       "      <td>Chrome</td>\n",
       "      <td>existing</td>\n",
       "      <td>de</td>\n",
       "      <td>in class</td>\n",
       "    </tr>\n",
       "    <tr>\n",
       "      <th>1</th>\n",
       "      <td>1</td>\n",
       "      <td>https://www.boerse-online.de</td>\n",
       "      <td>yes</td>\n",
       "      <td>personalized</td>\n",
       "      <td>&lt;NA&gt;</td>\n",
       "      <td>accept</td>\n",
       "      <td>Windows</td>\n",
       "      <td>Chrome</td>\n",
       "      <td>existing</td>\n",
       "      <td>de</td>\n",
       "      <td>in class</td>\n",
       "    </tr>\n",
       "    <tr>\n",
       "      <th>2</th>\n",
       "      <td>1</td>\n",
       "      <td>https://www.bildderfrau.de</td>\n",
       "      <td>yes</td>\n",
       "      <td>generic</td>\n",
       "      <td>&lt;NA&gt;</td>\n",
       "      <td>accept</td>\n",
       "      <td>Windows</td>\n",
       "      <td>Chrome</td>\n",
       "      <td>existing</td>\n",
       "      <td>de</td>\n",
       "      <td>in class</td>\n",
       "    </tr>\n",
       "    <tr>\n",
       "      <th>3</th>\n",
       "      <td>1</td>\n",
       "      <td>https://www.stylebook.de</td>\n",
       "      <td>yes</td>\n",
       "      <td>no</td>\n",
       "      <td>&lt;NA&gt;</td>\n",
       "      <td>accept</td>\n",
       "      <td>Windows</td>\n",
       "      <td>Chrome</td>\n",
       "      <td>existing</td>\n",
       "      <td>de</td>\n",
       "      <td>in class</td>\n",
       "    </tr>\n",
       "    <tr>\n",
       "      <th>4</th>\n",
       "      <td>1</td>\n",
       "      <td>https://www.svz.de</td>\n",
       "      <td>yes</td>\n",
       "      <td>generic</td>\n",
       "      <td>&lt;NA&gt;</td>\n",
       "      <td>accept</td>\n",
       "      <td>Windows</td>\n",
       "      <td>Chrome</td>\n",
       "      <td>existing</td>\n",
       "      <td>de</td>\n",
       "      <td>in class</td>\n",
       "    </tr>\n",
       "    <tr>\n",
       "      <th>...</th>\n",
       "      <td>...</td>\n",
       "      <td>...</td>\n",
       "      <td>...</td>\n",
       "      <td>...</td>\n",
       "      <td>...</td>\n",
       "      <td>...</td>\n",
       "      <td>...</td>\n",
       "      <td>...</td>\n",
       "      <td>...</td>\n",
       "      <td>...</td>\n",
       "      <td>...</td>\n",
       "    </tr>\n",
       "    <tr>\n",
       "      <th>3345</th>\n",
       "      <td>67</td>\n",
       "      <td>https://www.news.de</td>\n",
       "      <td>no</td>\n",
       "      <td>no</td>\n",
       "      <td>&lt;NA&gt;</td>\n",
       "      <td>reject simple</td>\n",
       "      <td>Windows</td>\n",
       "      <td>Edge</td>\n",
       "      <td>existing</td>\n",
       "      <td>en</td>\n",
       "      <td>from home (repeated)</td>\n",
       "    </tr>\n",
       "    <tr>\n",
       "      <th>3346</th>\n",
       "      <td>67</td>\n",
       "      <td>https://efahrer.chip.de</td>\n",
       "      <td>yes</td>\n",
       "      <td>generic</td>\n",
       "      <td>&lt;NA&gt;</td>\n",
       "      <td>reject simple</td>\n",
       "      <td>Windows</td>\n",
       "      <td>Edge</td>\n",
       "      <td>existing</td>\n",
       "      <td>en</td>\n",
       "      <td>from home (repeated)</td>\n",
       "    </tr>\n",
       "    <tr>\n",
       "      <th>3347</th>\n",
       "      <td>67</td>\n",
       "      <td>https://www.zeit.de/</td>\n",
       "      <td>no</td>\n",
       "      <td>no</td>\n",
       "      <td>&lt;NA&gt;</td>\n",
       "      <td>reject simple</td>\n",
       "      <td>Windows</td>\n",
       "      <td>Edge</td>\n",
       "      <td>existing</td>\n",
       "      <td>en</td>\n",
       "      <td>from home (repeated)</td>\n",
       "    </tr>\n",
       "    <tr>\n",
       "      <th>3348</th>\n",
       "      <td>67</td>\n",
       "      <td>https://www.harpersbazaar.de/</td>\n",
       "      <td>yes</td>\n",
       "      <td>no</td>\n",
       "      <td>&lt;NA&gt;</td>\n",
       "      <td>reject simple</td>\n",
       "      <td>Windows</td>\n",
       "      <td>Edge</td>\n",
       "      <td>existing</td>\n",
       "      <td>en</td>\n",
       "      <td>from home (repeated)</td>\n",
       "    </tr>\n",
       "    <tr>\n",
       "      <th>3349</th>\n",
       "      <td>67</td>\n",
       "      <td>https://www.noz.de</td>\n",
       "      <td>yes</td>\n",
       "      <td>generic</td>\n",
       "      <td>&lt;NA&gt;</td>\n",
       "      <td>reject simple</td>\n",
       "      <td>Windows</td>\n",
       "      <td>Edge</td>\n",
       "      <td>existing</td>\n",
       "      <td>en</td>\n",
       "      <td>from home (repeated)</td>\n",
       "    </tr>\n",
       "  </tbody>\n",
       "</table>\n",
       "<p>3177 rows × 11 columns</p>\n",
       "</div>"
      ],
      "text/plain": [
       "      ID                            URL Has Consent Dialog?      Has Ads?  \\\n",
       "0      1      https://www.windowspro.de                 yes       generic   \n",
       "1      1   https://www.boerse-online.de                 yes  personalized   \n",
       "2      1     https://www.bildderfrau.de                 yes       generic   \n",
       "3      1       https://www.stylebook.de                 yes            no   \n",
       "4      1             https://www.svz.de                 yes       generic   \n",
       "...   ..                            ...                 ...           ...   \n",
       "3345  67            https://www.news.de                  no            no   \n",
       "3346  67        https://efahrer.chip.de                 yes       generic   \n",
       "3347  67           https://www.zeit.de/                  no            no   \n",
       "3348  67  https://www.harpersbazaar.de/                 yes            no   \n",
       "3349  67             https://www.noz.de                 yes       generic   \n",
       "\n",
       "     Comment Consent Strategy Operating System Browser Browser Profile  \\\n",
       "0       <NA>           accept          Windows  Chrome        existing   \n",
       "1       <NA>           accept          Windows  Chrome        existing   \n",
       "2       <NA>           accept          Windows  Chrome        existing   \n",
       "3       <NA>           accept          Windows  Chrome        existing   \n",
       "4       <NA>           accept          Windows  Chrome        existing   \n",
       "...      ...              ...              ...     ...             ...   \n",
       "3345    <NA>    reject simple          Windows    Edge        existing   \n",
       "3346    <NA>    reject simple          Windows    Edge        existing   \n",
       "3347    <NA>    reject simple          Windows    Edge        existing   \n",
       "3348    <NA>    reject simple          Windows    Edge        existing   \n",
       "3349    <NA>    reject simple          Windows    Edge        existing   \n",
       "\n",
       "     Language              location  \n",
       "0          de              in class  \n",
       "1          de              in class  \n",
       "2          de              in class  \n",
       "3          de              in class  \n",
       "4          de              in class  \n",
       "...       ...                   ...  \n",
       "3345       en  from home (repeated)  \n",
       "3346       en  from home (repeated)  \n",
       "3347       en  from home (repeated)  \n",
       "3348       en  from home (repeated)  \n",
       "3349       en  from home (repeated)  \n",
       "\n",
       "[3177 rows x 11 columns]"
      ]
     },
     "execution_count": 2,
     "metadata": {},
     "output_type": "execute_result"
    }
   ],
   "source": [
    "df = pd.read_feather(\"measurements.feather\")\n",
    "df = df.dropna(subset=[\"Has Consent Dialog?\", \"Has Ads?\"])\n",
    "df"
   ]
  },
  {
   "cell_type": "code",
   "execution_count": 3,
   "metadata": {
    "pycharm": {
     "name": "#%%\n"
    }
   },
   "outputs": [
    {
     "data": {
      "text/plain": [
       "from home               27\n",
       "from home (repeated)    23\n",
       "in class                17\n",
       "Name: location, dtype: int64"
      ]
     },
     "execution_count": 3,
     "metadata": {},
     "output_type": "execute_result"
    }
   ],
   "source": [
    "df.groupby(\"ID\").first().location.value_counts()"
   ]
  },
  {
   "cell_type": "code",
   "execution_count": 4,
   "metadata": {
    "pycharm": {
     "name": "#%%\n"
    }
   },
   "outputs": [
    {
     "data": {
      "text/plain": [
       "existing     51\n",
       "new          11\n",
       "incognito     5\n",
       "Name: Browser Profile, dtype: int64"
      ]
     },
     "execution_count": 4,
     "metadata": {},
     "output_type": "execute_result"
    }
   ],
   "source": [
    "df.groupby(\"ID\").first()[\"Browser Profile\"].value_counts()\n"
   ]
  },
  {
   "cell_type": "code",
   "execution_count": 5,
   "metadata": {},
   "outputs": [
    {
     "data": {
      "text/plain": [
       "de    55\n",
       "en    12\n",
       "Name: Language, dtype: int64"
      ]
     },
     "execution_count": 5,
     "metadata": {},
     "output_type": "execute_result"
    }
   ],
   "source": [
    "df.groupby(\"ID\").first()[\"Language\"].value_counts()\n"
   ]
  },
  {
   "cell_type": "code",
   "execution_count": 6,
   "metadata": {
    "pycharm": {
     "name": "#%%\n"
    }
   },
   "outputs": [
    {
     "data": {
      "text/plain": [
       "5     313\n",
       "1     263\n",
       "4     189\n",
       "3     113\n",
       "2      89\n",
       "6      11\n",
       "10      1\n",
       "dtype: int64"
      ]
     },
     "execution_count": 6,
     "metadata": {},
     "output_type": "execute_result"
    }
   ],
   "source": [
    "df[[\"URL\", \"Consent Strategy\"]].value_counts().value_counts()"
   ]
  },
  {
   "cell_type": "code",
   "execution_count": 7,
   "metadata": {
    "pycharm": {
     "name": "#%%\n"
    }
   },
   "outputs": [
    {
     "data": {
      "text/html": [
       "<div>\n",
       "<style scoped>\n",
       "    .dataframe tbody tr th:only-of-type {\n",
       "        vertical-align: middle;\n",
       "    }\n",
       "\n",
       "    .dataframe tbody tr th {\n",
       "        vertical-align: top;\n",
       "    }\n",
       "\n",
       "    .dataframe thead th {\n",
       "        text-align: right;\n",
       "    }\n",
       "</style>\n",
       "<table border=\"1\" class=\"dataframe\">\n",
       "  <thead>\n",
       "    <tr style=\"text-align: right;\">\n",
       "      <th></th>\n",
       "      <th>has_ads_no</th>\n",
       "      <th>has_ads_generic</th>\n",
       "      <th>has_ads_personalized</th>\n",
       "      <th>yes</th>\n",
       "      <th>Consent Strategy</th>\n",
       "      <th>Operating System</th>\n",
       "      <th>Browser</th>\n",
       "      <th>Browser Profile</th>\n",
       "      <th>Language</th>\n",
       "      <th>location</th>\n",
       "    </tr>\n",
       "    <tr>\n",
       "      <th>ID</th>\n",
       "      <th></th>\n",
       "      <th></th>\n",
       "      <th></th>\n",
       "      <th></th>\n",
       "      <th></th>\n",
       "      <th></th>\n",
       "      <th></th>\n",
       "      <th></th>\n",
       "      <th></th>\n",
       "      <th></th>\n",
       "    </tr>\n",
       "  </thead>\n",
       "  <tbody>\n",
       "    <tr>\n",
       "      <th>1</th>\n",
       "      <td>0.209302</td>\n",
       "      <td>0.418605</td>\n",
       "      <td>0.372093</td>\n",
       "      <td>0.976744</td>\n",
       "      <td>accept</td>\n",
       "      <td>Windows</td>\n",
       "      <td>Chrome</td>\n",
       "      <td>existing</td>\n",
       "      <td>de</td>\n",
       "      <td>in class</td>\n",
       "    </tr>\n",
       "    <tr>\n",
       "      <th>2</th>\n",
       "      <td>0.720000</td>\n",
       "      <td>0.280000</td>\n",
       "      <td>0.000000</td>\n",
       "      <td>0.900000</td>\n",
       "      <td>reject all</td>\n",
       "      <td>Windows</td>\n",
       "      <td>Chrome</td>\n",
       "      <td>existing</td>\n",
       "      <td>de</td>\n",
       "      <td>in class</td>\n",
       "    </tr>\n",
       "    <tr>\n",
       "      <th>3</th>\n",
       "      <td>0.240000</td>\n",
       "      <td>0.160000</td>\n",
       "      <td>0.600000</td>\n",
       "      <td>0.860000</td>\n",
       "      <td>accept</td>\n",
       "      <td>Windows</td>\n",
       "      <td>Chrome</td>\n",
       "      <td>existing</td>\n",
       "      <td>de</td>\n",
       "      <td>in class</td>\n",
       "    </tr>\n",
       "    <tr>\n",
       "      <th>4</th>\n",
       "      <td>0.681818</td>\n",
       "      <td>0.318182</td>\n",
       "      <td>0.000000</td>\n",
       "      <td>0.909091</td>\n",
       "      <td>reject all</td>\n",
       "      <td>Linux</td>\n",
       "      <td>Firefox</td>\n",
       "      <td>existing</td>\n",
       "      <td>en</td>\n",
       "      <td>in class</td>\n",
       "    </tr>\n",
       "    <tr>\n",
       "      <th>5</th>\n",
       "      <td>0.260000</td>\n",
       "      <td>0.700000</td>\n",
       "      <td>0.040000</td>\n",
       "      <td>0.980000</td>\n",
       "      <td>accept</td>\n",
       "      <td>Windows</td>\n",
       "      <td>Chrome</td>\n",
       "      <td>new</td>\n",
       "      <td>de</td>\n",
       "      <td>in class</td>\n",
       "    </tr>\n",
       "    <tr>\n",
       "      <th>...</th>\n",
       "      <td>...</td>\n",
       "      <td>...</td>\n",
       "      <td>...</td>\n",
       "      <td>...</td>\n",
       "      <td>...</td>\n",
       "      <td>...</td>\n",
       "      <td>...</td>\n",
       "      <td>...</td>\n",
       "      <td>...</td>\n",
       "      <td>...</td>\n",
       "    </tr>\n",
       "    <tr>\n",
       "      <th>63</th>\n",
       "      <td>0.666667</td>\n",
       "      <td>0.270833</td>\n",
       "      <td>0.062500</td>\n",
       "      <td>0.937500</td>\n",
       "      <td>reject simple</td>\n",
       "      <td>Windows</td>\n",
       "      <td>Chrome</td>\n",
       "      <td>existing</td>\n",
       "      <td>de</td>\n",
       "      <td>from home (repeated)</td>\n",
       "    </tr>\n",
       "    <tr>\n",
       "      <th>64</th>\n",
       "      <td>0.326531</td>\n",
       "      <td>0.551020</td>\n",
       "      <td>0.122449</td>\n",
       "      <td>0.959184</td>\n",
       "      <td>reject simple</td>\n",
       "      <td>Mac</td>\n",
       "      <td>Chrome</td>\n",
       "      <td>existing</td>\n",
       "      <td>de</td>\n",
       "      <td>from home (repeated)</td>\n",
       "    </tr>\n",
       "    <tr>\n",
       "      <th>65</th>\n",
       "      <td>0.632653</td>\n",
       "      <td>0.204082</td>\n",
       "      <td>0.163265</td>\n",
       "      <td>1.000000</td>\n",
       "      <td>reject simple</td>\n",
       "      <td>Windows</td>\n",
       "      <td>Chrome</td>\n",
       "      <td>new</td>\n",
       "      <td>de</td>\n",
       "      <td>from home (repeated)</td>\n",
       "    </tr>\n",
       "    <tr>\n",
       "      <th>66</th>\n",
       "      <td>0.660000</td>\n",
       "      <td>0.260000</td>\n",
       "      <td>0.080000</td>\n",
       "      <td>1.000000</td>\n",
       "      <td>reject simple</td>\n",
       "      <td>Windows</td>\n",
       "      <td>Chrome</td>\n",
       "      <td>existing</td>\n",
       "      <td>de</td>\n",
       "      <td>from home (repeated)</td>\n",
       "    </tr>\n",
       "    <tr>\n",
       "      <th>67</th>\n",
       "      <td>0.560000</td>\n",
       "      <td>0.420000</td>\n",
       "      <td>0.020000</td>\n",
       "      <td>0.760000</td>\n",
       "      <td>reject simple</td>\n",
       "      <td>Windows</td>\n",
       "      <td>Edge</td>\n",
       "      <td>existing</td>\n",
       "      <td>en</td>\n",
       "      <td>from home (repeated)</td>\n",
       "    </tr>\n",
       "  </tbody>\n",
       "</table>\n",
       "<p>67 rows × 10 columns</p>\n",
       "</div>"
      ],
      "text/plain": [
       "    has_ads_no  has_ads_generic  has_ads_personalized       yes  \\\n",
       "ID                                                                \n",
       "1     0.209302         0.418605              0.372093  0.976744   \n",
       "2     0.720000         0.280000              0.000000  0.900000   \n",
       "3     0.240000         0.160000              0.600000  0.860000   \n",
       "4     0.681818         0.318182              0.000000  0.909091   \n",
       "5     0.260000         0.700000              0.040000  0.980000   \n",
       "..         ...              ...                   ...       ...   \n",
       "63    0.666667         0.270833              0.062500  0.937500   \n",
       "64    0.326531         0.551020              0.122449  0.959184   \n",
       "65    0.632653         0.204082              0.163265  1.000000   \n",
       "66    0.660000         0.260000              0.080000  1.000000   \n",
       "67    0.560000         0.420000              0.020000  0.760000   \n",
       "\n",
       "   Consent Strategy Operating System  Browser Browser Profile Language  \\\n",
       "ID                                                                       \n",
       "1            accept          Windows   Chrome        existing       de   \n",
       "2        reject all          Windows   Chrome        existing       de   \n",
       "3            accept          Windows   Chrome        existing       de   \n",
       "4        reject all            Linux  Firefox        existing       en   \n",
       "5            accept          Windows   Chrome             new       de   \n",
       "..              ...              ...      ...             ...      ...   \n",
       "63    reject simple          Windows   Chrome        existing       de   \n",
       "64    reject simple              Mac   Chrome        existing       de   \n",
       "65    reject simple          Windows   Chrome             new       de   \n",
       "66    reject simple          Windows   Chrome        existing       de   \n",
       "67    reject simple          Windows     Edge        existing       en   \n",
       "\n",
       "                location  \n",
       "ID                        \n",
       "1               in class  \n",
       "2               in class  \n",
       "3               in class  \n",
       "4               in class  \n",
       "5               in class  \n",
       "..                   ...  \n",
       "63  from home (repeated)  \n",
       "64  from home (repeated)  \n",
       "65  from home (repeated)  \n",
       "66  from home (repeated)  \n",
       "67  from home (repeated)  \n",
       "\n",
       "[67 rows x 10 columns]"
      ]
     },
     "execution_count": 7,
     "metadata": {},
     "output_type": "execute_result"
    }
   ],
   "source": [
    "aggs = pd.concat([\n",
    "    df.groupby(\"ID\")[\"Has Ads?\"].value_counts(normalize=True).unstack().add_prefix(\"has_ads_\"),\n",
    "    df.groupby(\"ID\")[\"Has Consent Dialog?\"].value_counts(normalize=True).unstack()[\"yes\"],\n",
    "    df[[\"ID\", \"Consent Strategy\", \"Operating System\", \"Browser\", \"Browser Profile\", \"Language\", \"location\"]].groupby(\"ID\").agg(pd.Series.mode)\n",
    "], axis=1).fillna(0)\n",
    "aggs"
   ]
  },
  {
   "cell_type": "code",
   "execution_count": 8,
   "metadata": {
    "pycharm": {
     "name": "#%%\n"
    }
   },
   "outputs": [
    {
     "data": {
      "text/plain": [
       "MannwhitneyuResult(statistic=48.5, pvalue=0.0009274879783411893)"
      ]
     },
     "execution_count": 8,
     "metadata": {},
     "output_type": "execute_result"
    }
   ],
   "source": [
    "a = aggs[aggs[\"Consent Strategy\"] == \"accept\"][\"has_ads_no\"]\n",
    "b = aggs[aggs[\"Consent Strategy\"] == \"reject simple\"][\"has_ads_no\"]\n",
    "scipy.stats.mannwhitneyu(a,b)"
   ]
  },
  {
   "cell_type": "code",
   "execution_count": 9,
   "metadata": {},
   "outputs": [
    {
     "data": {
      "text/plain": [
       "0.05629905808477236"
      ]
     },
     "execution_count": 9,
     "metadata": {},
     "output_type": "execute_result"
    }
   ],
   "source": [
    "aggs[aggs[\"Consent Strategy\"] == \"reject simple\"][\"has_ads_personalized\"].mean()"
   ]
  },
  {
   "cell_type": "code",
   "execution_count": 31,
   "metadata": {},
   "outputs": [
    {
     "data": {
      "text/plain": [
       "has_ads_no              0.512632\n",
       "has_ads_generic         0.431069\n",
       "has_ads_personalized    0.056299\n",
       "dtype: float64"
      ]
     },
     "execution_count": 31,
     "metadata": {},
     "output_type": "execute_result"
    }
   ],
   "source": [
    "aggs[aggs[\"Consent Strategy\"] == \"reject simple\"][[\"has_ads_no\",\"has_ads_generic\",\"has_ads_personalized\"]].mean()"
   ]
  },
  {
   "cell_type": "code",
   "execution_count": 32,
   "metadata": {},
   "outputs": [
    {
     "data": {
      "text/plain": [
       "has_ads_no              0.668779\n",
       "has_ads_generic         0.304769\n",
       "has_ads_personalized    0.026452\n",
       "dtype: float64"
      ]
     },
     "execution_count": 32,
     "metadata": {},
     "output_type": "execute_result"
    }
   ],
   "source": [
    "aggs[aggs[\"Consent Strategy\"] == \"reject all\"][[\"has_ads_no\",\"has_ads_generic\",\"has_ads_personalized\"]].mean()"
   ]
  },
  {
   "cell_type": "code",
   "execution_count": 12,
   "metadata": {
    "pycharm": {
     "name": "#%%\n"
    }
   },
   "outputs": [
    {
     "data": {
      "text/plain": [
       "MannwhitneyuResult(statistic=78.0, pvalue=0.0015537660351066169)"
      ]
     },
     "execution_count": 12,
     "metadata": {},
     "output_type": "execute_result"
    }
   ],
   "source": [
    "a = aggs[aggs[\"Consent Strategy\"] == \"reject simple\"][\"has_ads_no\"]\n",
    "b = aggs[aggs[\"Consent Strategy\"] == \"reject all\"][\"has_ads_no\"]\n",
    "scipy.stats.mannwhitneyu(a,b)"
   ]
  },
  {
   "cell_type": "code",
   "execution_count": 13,
   "metadata": {},
   "outputs": [
    {
     "data": {
      "text/plain": [
       "MannwhitneyuResult(statistic=116.0, pvalue=0.2886379661407319)"
      ]
     },
     "execution_count": 13,
     "metadata": {},
     "output_type": "execute_result"
    }
   ],
   "source": [
    "a = aggs[(aggs[\"location\"] == \"in class\") & aggs[\"Consent Strategy\"].isin([\"reject all\"])][\"has_ads_no\"]\n",
    "b = aggs[(aggs[\"location\"] != \"in class\") & aggs[\"Consent Strategy\"].isin([\"reject all\"])][\"has_ads_no\"]\n",
    "scipy.stats.mannwhitneyu(a,b)"
   ]
  },
  {
   "cell_type": "code",
   "execution_count": 14,
   "metadata": {
    "pycharm": {
     "name": "#%%\n"
    }
   },
   "outputs": [
    {
     "data": {
      "text/html": [
       "<div>\n",
       "<style scoped>\n",
       "    .dataframe tbody tr th:only-of-type {\n",
       "        vertical-align: middle;\n",
       "    }\n",
       "\n",
       "    .dataframe tbody tr th {\n",
       "        vertical-align: top;\n",
       "    }\n",
       "\n",
       "    .dataframe thead th {\n",
       "        text-align: right;\n",
       "    }\n",
       "</style>\n",
       "<table border=\"1\" class=\"dataframe\">\n",
       "  <thead>\n",
       "    <tr style=\"text-align: right;\">\n",
       "      <th></th>\n",
       "      <th>count</th>\n",
       "      <th>mean</th>\n",
       "      <th>std</th>\n",
       "      <th>min</th>\n",
       "      <th>25%</th>\n",
       "      <th>50%</th>\n",
       "      <th>75%</th>\n",
       "      <th>max</th>\n",
       "    </tr>\n",
       "    <tr>\n",
       "      <th>location</th>\n",
       "      <th></th>\n",
       "      <th></th>\n",
       "      <th></th>\n",
       "      <th></th>\n",
       "      <th></th>\n",
       "      <th></th>\n",
       "      <th></th>\n",
       "      <th></th>\n",
       "    </tr>\n",
       "  </thead>\n",
       "  <tbody>\n",
       "    <tr>\n",
       "      <th>from home</th>\n",
       "      <td>8.0</td>\n",
       "      <td>0.236582</td>\n",
       "      <td>0.273831</td>\n",
       "      <td>0.00</td>\n",
       "      <td>0.015</td>\n",
       "      <td>0.13</td>\n",
       "      <td>0.398163</td>\n",
       "      <td>0.66</td>\n",
       "    </tr>\n",
       "    <tr>\n",
       "      <th>from home (repeated)</th>\n",
       "      <td>6.0</td>\n",
       "      <td>0.275034</td>\n",
       "      <td>0.239184</td>\n",
       "      <td>0.02</td>\n",
       "      <td>0.065</td>\n",
       "      <td>0.26</td>\n",
       "      <td>0.462653</td>\n",
       "      <td>0.58</td>\n",
       "    </tr>\n",
       "    <tr>\n",
       "      <th>in class</th>\n",
       "      <td>9.0</td>\n",
       "      <td>0.155539</td>\n",
       "      <td>0.224821</td>\n",
       "      <td>0.00</td>\n",
       "      <td>0.000</td>\n",
       "      <td>0.04</td>\n",
       "      <td>0.346939</td>\n",
       "      <td>0.60</td>\n",
       "    </tr>\n",
       "  </tbody>\n",
       "</table>\n",
       "</div>"
      ],
      "text/plain": [
       "                      count      mean       std   min    25%   50%       75%  \\\n",
       "location                                                                       \n",
       "from home               8.0  0.236582  0.273831  0.00  0.015  0.13  0.398163   \n",
       "from home (repeated)    6.0  0.275034  0.239184  0.02  0.065  0.26  0.462653   \n",
       "in class                9.0  0.155539  0.224821  0.00  0.000  0.04  0.346939   \n",
       "\n",
       "                       max  \n",
       "location                    \n",
       "from home             0.66  \n",
       "from home (repeated)  0.58  \n",
       "in class              0.60  "
      ]
     },
     "execution_count": 14,
     "metadata": {},
     "output_type": "execute_result"
    }
   ],
   "source": [
    "aggs[aggs[\"Consent Strategy\"] == \"accept\"].groupby(\"location\").has_ads_personalized.describe()"
   ]
  },
  {
   "cell_type": "code",
   "execution_count": 33,
   "metadata": {
    "pycharm": {
     "name": "#%%\n"
    }
   },
   "outputs": [
    {
     "name": "stdout",
     "output_type": "stream",
     "text": [
      "$\\chi^2(60, N=1529) = 239.76, p<0.01$\n"
     ]
    }
   ],
   "source": [
    "def Chisq(table):\n",
    "    tval, pval, dof = scipy.stats.chi2_contingency(table)[:3]\n",
    "    pval = f\"={pval:.2f}\"\n",
    "    if pval == \"=0.00\":\n",
    "        pval = \"<0.01\"\n",
    "    return fr\"$\\chi^2({dof}, N={table.sum().sum()}) = {tval:.2f}, p{pval}$\"\n",
    "\n",
    "\n",
    "print(Chisq(\n",
    "    aggs[aggs[\"Consent Strategy\"] == \"reject all\"][[\"has_ads_no\", \"has_ads_personalized\", \"has_ads_generic\"]].applymap(lambda x: int(x*50))\n",
    "))"
   ]
  },
  {
   "cell_type": "code",
   "execution_count": 16,
   "metadata": {
    "pycharm": {
     "name": "#%%\n"
    }
   },
   "outputs": [
    {
     "name": "stdout",
     "output_type": "stream",
     "text": [
      "$\\chi^2(30, N=1530) = 115.79, p<0.01$\n"
     ]
    }
   ],
   "source": [
    "group = \"reject all\"\n",
    "a = aggs[aggs[\"Consent Strategy\"] == group][\"has_ads_generic\"] + aggs[aggs[\"Consent Strategy\"] == group][\"has_ads_personalized\"]\n",
    "b = aggs[aggs[\"Consent Strategy\"] == group][\"has_ads_no\"]\n",
    "a = a.apply(lambda x: int(x*50))\n",
    "b = b.apply(lambda x: int(x*50))\n",
    "print(Chisq(\n",
    "    pd.concat([a,b], axis=1)\n",
    "))"
   ]
  },
  {
   "cell_type": "code",
   "execution_count": 17,
   "metadata": {
    "pycharm": {
     "name": "#%%\n"
    }
   },
   "outputs": [],
   "source": [
    "#scipy.stats.kruskal(\n",
    "#*[\n",
    "#    list(col)\n",
    "#    for n, col in\n",
    "#aggs[aggs[\"Consent Strategy\"] == \"reject all\"][[\"has_ads_no\", \"has_ads_generic\"]].applymap(lambda x: int(x*50)).iteritems()\n",
    "#])"
   ]
  },
  {
   "cell_type": "code",
   "execution_count": 18,
   "metadata": {
    "pycharm": {
     "name": "#%%\n"
    }
   },
   "outputs": [
    {
     "name": "stdout",
     "output_type": "stream",
     "text": [
      "reject all       31\n",
      "accept           23\n",
      "reject simple    13\n",
      "Name: Consent Strategy, dtype: int64\n",
      "reject all       0.462687\n",
      "accept           0.343284\n",
      "reject simple    0.194030\n",
      "Name: Consent Strategy, dtype: float64\n"
     ]
    },
    {
     "data": {
      "image/png": "[encoded data removed]",
      "text/plain": [
       "<Figure size 216x216 with 1 Axes>"
      ]
     },
     "metadata": {
      "needs_background": "light"
     },
     "output_type": "display_data"
    },
    {
     "name": "stdout",
     "output_type": "stream",
     "text": [
      "Windows    47\n",
      "Linux      11\n",
      "Mac         9\n",
      "Name: Operating System, dtype: int64\n",
      "Windows    0.701493\n",
      "Linux      0.164179\n",
      "Mac        0.134328\n",
      "Name: Operating System, dtype: float64\n"
     ]
    },
    {
     "data": {
      "image/png": "[encoded data removed]",
      "text/plain": [
       "<Figure size 216x216 with 1 Axes>"
      ]
     },
     "metadata": {
      "needs_background": "light"
     },
     "output_type": "display_data"
    },
    {
     "name": "stdout",
     "output_type": "stream",
     "text": [
      "Chrome      37\n",
      "Firefox     16\n",
      "Edge         9\n",
      "Safari       4\n",
      "Chromium     1\n",
      "Name: Browser, dtype: int64\n",
      "Chrome      0.552239\n",
      "Firefox     0.238806\n",
      "Edge        0.134328\n",
      "Safari      0.059701\n",
      "Chromium    0.014925\n",
      "Name: Browser, dtype: float64\n"
     ]
    },
    {
     "data": {
      "image/png": "[encoded data removed]",
      "text/plain": [
       "<Figure size 216x216 with 1 Axes>"
      ]
     },
     "metadata": {
      "needs_background": "light"
     },
     "output_type": "display_data"
    },
    {
     "name": "stdout",
     "output_type": "stream",
     "text": [
      "existing     51\n",
      "new          11\n",
      "incognito     5\n",
      "Name: Browser Profile, dtype: int64\n",
      "existing     0.761194\n",
      "new          0.164179\n",
      "incognito    0.074627\n",
      "Name: Browser Profile, dtype: float64\n"
     ]
    },
    {
     "data": {
      "image/png": "[encoded data removed]",
      "text/plain": [
       "<Figure size 216x216 with 1 Axes>"
      ]
     },
     "metadata": {
      "needs_background": "light"
     },
     "output_type": "display_data"
    },
    {
     "name": "stdout",
     "output_type": "stream",
     "text": [
      "de    55\n",
      "en    12\n",
      "Name: Language, dtype: int64\n",
      "de    0.820896\n",
      "en    0.179104\n",
      "Name: Language, dtype: float64\n"
     ]
    },
    {
     "data": {
      "image/png": "[encoded data removed]",
      "text/plain": [
       "<Figure size 216x216 with 1 Axes>"
      ]
     },
     "metadata": {
      "needs_background": "light"
     },
     "output_type": "display_data"
    },
    {
     "name": "stdout",
     "output_type": "stream",
     "text": [
      "from home               27\n",
      "from home (repeated)    23\n",
      "in class                17\n",
      "Name: location, dtype: int64\n",
      "from home               0.402985\n",
      "from home (repeated)    0.343284\n",
      "in class                0.253731\n",
      "Name: location, dtype: float64\n"
     ]
    },
    {
     "data": {
      "image/png": "[encoded data removed]",
      "text/plain": [
       "<Figure size 216x216 with 1 Axes>"
      ]
     },
     "metadata": {
      "needs_background": "light"
     },
     "output_type": "display_data"
    }
   ],
   "source": [
    "for col in [\"Consent Strategy\", \"Operating System\", \"Browser\", \"Browser Profile\", \"Language\", \"location\"]:\n",
    "    print(aggs[col].value_counts())\n",
    "    print(aggs[col].value_counts(normalize=True))\n",
    "    aggs[col].value_counts().plot.bar(title=col, figsize=(3,3), ylim=(0,len(aggs)))\n",
    "\n",
    "    plt.show()\n"
   ]
  },
  {
   "cell_type": "code",
   "execution_count": 44,
   "metadata": {
    "pycharm": {
     "name": "#%%\n"
    }
   },
   "outputs": [
    {
     "data": {
      "text/plain": [
       "<AxesSubplot:xlabel='has_ads_personalized', ylabel='Consent Strategy'>"
      ]
     },
     "execution_count": 44,
     "metadata": {},
     "output_type": "execute_result"
    },
    {
     "data": {
      "image/png": "[encoded data removed]",
      "text/plain": [
       "<Figure size 1080x360 with 1 Axes>"
      ]
     },
     "metadata": {},
     "output_type": "display_data"
    }
   ],
   "source": [
    "sns.swarmplot(data=aggs, x=\"has_ads_personalized\", y=\"Consent Strategy\", size=4)"
   ]
  },
  {
   "cell_type": "code",
   "execution_count": 46,
   "metadata": {
    "pycharm": {
     "name": "#%%\n"
    }
   },
   "outputs": [
    {
     "name": "stderr",
     "output_type": "stream",
     "text": [
      "C:\\Python310\\lib\\site-packages\\seaborn\\categorical.py:1296: UserWarning: 16.1% of the points cannot be placed; you may want to decrease the size of the markers or use stripplot.\n",
      "  warnings.warn(msg, UserWarning)\n"
     ]
    },
    {
     "ename": "TypeError",
     "evalue": "Legend.__init__() got an unexpected keyword argument 'size'",
     "output_type": "error",
     "traceback": [
      "\u001b[1;31m---------------------------------------------------------------------------\u001b[0m",
      "\u001b[1;31mTypeError\u001b[0m                                 Traceback (most recent call last)",
      "Input \u001b[1;32mIn [46]\u001b[0m, in \u001b[0;36m<cell line: 13>\u001b[1;34m()\u001b[0m\n\u001b[0;32m      8\u001b[0m sns\u001b[38;5;241m.\u001b[39mset(rc\u001b[38;5;241m=\u001b[39m{\u001b[38;5;124m'\u001b[39m\u001b[38;5;124mfigure.figsize\u001b[39m\u001b[38;5;124m'\u001b[39m:(\u001b[38;5;241m15\u001b[39m, \u001b[38;5;241m5\u001b[39m)})\n\u001b[0;32m      9\u001b[0m ax \u001b[38;5;241m=\u001b[39m sns\u001b[38;5;241m.\u001b[39mswarmplot(\n\u001b[0;32m     10\u001b[0m     data\u001b[38;5;241m=\u001b[39maggs_long,\n\u001b[0;32m     11\u001b[0m     y\u001b[38;5;241m=\u001b[39m\u001b[38;5;124m\"\u001b[39m\u001b[38;5;132;01m% o\u001b[39;00m\u001b[38;5;124mf websites\u001b[39m\u001b[38;5;124m\"\u001b[39m, hue\u001b[38;5;241m=\u001b[39m\u001b[38;5;124m\"\u001b[39m\u001b[38;5;124mConsent Strategy\u001b[39m\u001b[38;5;124m\"\u001b[39m, x\u001b[38;5;241m=\u001b[39m\u001b[38;5;124m\"\u001b[39m\u001b[38;5;124mHas Ads?\u001b[39m\u001b[38;5;124m\"\u001b[39m, dodge\u001b[38;5;241m=\u001b[39m\u001b[38;5;28;01mTrue\u001b[39;00m,\n\u001b[0;32m     12\u001b[0m )\n\u001b[1;32m---> 13\u001b[0m \u001b[43max\u001b[49m\u001b[38;5;241;43m.\u001b[39;49m\u001b[43mlegend\u001b[49m\u001b[43m(\u001b[49m\u001b[43mbbox_to_anchor\u001b[49m\u001b[38;5;241;43m=\u001b[39;49m\u001b[43m(\u001b[49m\u001b[38;5;241;43m1.05\u001b[39;49m\u001b[43m,\u001b[49m\u001b[43m \u001b[49m\u001b[38;5;241;43m1\u001b[39;49m\u001b[43m)\u001b[49m\u001b[43m,\u001b[49m\u001b[43m \u001b[49m\u001b[43mloc\u001b[49m\u001b[38;5;241;43m=\u001b[39;49m\u001b[38;5;241;43m2\u001b[39;49m\u001b[43m,\u001b[49m\u001b[43m \u001b[49m\u001b[43mborderaxespad\u001b[49m\u001b[38;5;241;43m=\u001b[39;49m\u001b[38;5;241;43m0\u001b[39;49m\u001b[43m,\u001b[49m\u001b[43m \u001b[49m\u001b[43msize\u001b[49m\u001b[38;5;241;43m=\u001b[39;49m\u001b[38;5;241;43m3\u001b[39;49m\u001b[43m)\u001b[49m\n\u001b[0;32m     14\u001b[0m aggs_long\n",
      "File \u001b[1;32mC:\\Python310\\lib\\site-packages\\matplotlib\\axes\\_axes.py:305\u001b[0m, in \u001b[0;36mAxes.legend\u001b[1;34m(self, *args, **kwargs)\u001b[0m\n\u001b[0;32m    303\u001b[0m \u001b[38;5;28;01mif\u001b[39;00m \u001b[38;5;28mlen\u001b[39m(extra_args):\n\u001b[0;32m    304\u001b[0m     \u001b[38;5;28;01mraise\u001b[39;00m \u001b[38;5;167;01mTypeError\u001b[39;00m(\u001b[38;5;124m'\u001b[39m\u001b[38;5;124mlegend only accepts two non-keyword arguments\u001b[39m\u001b[38;5;124m'\u001b[39m)\n\u001b[1;32m--> 305\u001b[0m \u001b[38;5;28mself\u001b[39m\u001b[38;5;241m.\u001b[39mlegend_ \u001b[38;5;241m=\u001b[39m mlegend\u001b[38;5;241m.\u001b[39mLegend(\u001b[38;5;28mself\u001b[39m, handles, labels, \u001b[38;5;241m*\u001b[39m\u001b[38;5;241m*\u001b[39mkwargs)\n\u001b[0;32m    306\u001b[0m \u001b[38;5;28mself\u001b[39m\u001b[38;5;241m.\u001b[39mlegend_\u001b[38;5;241m.\u001b[39m_remove_method \u001b[38;5;241m=\u001b[39m \u001b[38;5;28mself\u001b[39m\u001b[38;5;241m.\u001b[39m_remove_legend\n\u001b[0;32m    307\u001b[0m \u001b[38;5;28;01mreturn\u001b[39;00m \u001b[38;5;28mself\u001b[39m\u001b[38;5;241m.\u001b[39mlegend_\n",
      "\u001b[1;31mTypeError\u001b[0m: Legend.__init__() got an unexpected keyword argument 'size'"
     ]
    },
    {
     "data": {
      "image/png": "[encoded data removed]",
      "text/plain": [
       "<Figure size 1080x360 with 1 Axes>"
      ]
     },
     "metadata": {},
     "output_type": "display_data"
    }
   ],
   "source": [
    "aggs_long = aggs.reset_index().melt([\"ID\", \"Consent Strategy\", \"location\"], value_vars=[\"has_ads_personalized\", \"has_ads_generic\", \"has_ads_no\"])\n",
    "aggs_long[\"variable\"] = aggs_long[\"variable\"].astype(\"category\").cat.reorder_categories([\"has_ads_personalized\",\"has_ads_generic\",\"has_ads_no\"])\n",
    "aggs_long[\"Consent Strategy\"] = aggs_long[\"Consent Strategy\"].astype(\"category\").cat.reorder_categories([\"accept\", \"reject simple\", \"reject all\"])\n",
    "aggs_long = aggs_long.rename(columns={\"variable\":\"Has Ads?\", \"value\": \"% of websites\"})\n",
    "aggs_long[\"Has Ads?\"] = aggs_long[\"Has Ads?\"].str.replace(\"has_ads_\",\"\")\n",
    "aggs_long[\"Consent Strategy\"] = aggs_long[\"Consent Strategy\"].str.replace(\"reject all\",\"object legint\")\n",
    "\n",
    "sns.set(rc={'figure.figsize':(15, 5)})\n",
    "ax = sns.swarmplot(\n",
    "    data=aggs_long,\n",
    "    y=\"% of websites\", hue=\"Consent Strategy\", x=\"Has Ads?\", dodge=True,, size=3\n",
    ")\n",
    "ax.legend(bbox_to_anchor=(1.05, 1), loc=2, borderaxespad=0)\n",
    "aggs_long"
   ]
  },
  {
   "cell_type": "code",
   "execution_count": 21,
   "metadata": {
    "pycharm": {
     "name": "#%%\n"
    }
   },
   "outputs": [
    {
     "name": "stderr",
     "output_type": "stream",
     "text": [
      "C:\\Python310\\lib\\site-packages\\seaborn\\categorical.py:1296: UserWarning: 16.1% of the points cannot be placed; you may want to decrease the size of the markers or use stripplot.\n",
      "  warnings.warn(msg, UserWarning)\n"
     ]
    },
    {
     "data": {
      "text/plain": [
       "<matplotlib.legend.Legend at 0x2d5cf8d0b50>"
      ]
     },
     "execution_count": 21,
     "metadata": {},
     "output_type": "execute_result"
    },
    {
     "data": {
      "image/png": "[encoded data removed]",
      "text/plain": [
       "<Figure size 1080x360 with 1 Axes>"
      ]
     },
     "metadata": {},
     "output_type": "display_data"
    }
   ],
   "source": [
    "ax = sns.swarmplot(\n",
    "    data=aggs_long,\n",
    "    y=\"% of websites\", hue=\"Has Ads?\", x=\"Consent Strategy\", dodge=True,\n",
    ")\n",
    "ax.legend(bbox_to_anchor=(1.05, 1), loc=2, borderaxespad=0.)"
   ]
  },
  {
   "cell_type": "code",
   "execution_count": 22,
   "metadata": {
    "pycharm": {
     "name": "#%%\n"
    }
   },
   "outputs": [
    {
     "data": {
      "text/plain": [
       "<AxesSubplot:xlabel='% of websites', ylabel='Consent Strategy'>"
      ]
     },
     "execution_count": 22,
     "metadata": {},
     "output_type": "execute_result"
    },
    {
     "data": {
      "image/png": "[encoded data removed]",
      "text/plain": [
       "<Figure size 1080x360 with 1 Axes>"
      ]
     },
     "metadata": {},
     "output_type": "display_data"
    }
   ],
   "source": [
    "sns.boxplot(\n",
    "    data=aggs_long,\n",
    "    x=\"% of websites\", y=\"Consent Strategy\", hue=\"Has Ads?\"\n",
    ")"
   ]
  },
  {
   "cell_type": "code",
   "execution_count": 23,
   "metadata": {
    "pycharm": {
     "name": "#%%\n"
    }
   },
   "outputs": [],
   "source": [
    "subsets = {\n",
    "    \"full\": aggs_long,\n",
    "    \"nov21\": aggs_long[(aggs_long.location == \"in class\") | (aggs_long.location == \"from home\")],\n",
    "    \"class1\": aggs_long[aggs_long.location == \"in class\"],\n",
    "    \"home1\": aggs_long[aggs_long.location == \"from home\"],\n",
    "    \"home2\": aggs_long[aggs_long.location == \"from home (repeated)\"],\n",
    "}\n",
    "\n",
    "for sname, subset in subsets.items():\n",
    "    with open(rf\"barplots-{sname}.tex\", \"w\") as f:\n",
    "        for strat, rows in subset.groupby(\"Consent Strategy\"):\n",
    "            offset_x = 0\n",
    "            rows = rows.pivot(\"ID\", \"Has Ads?\", \"% of websites\")[[\"no\", \"generic\", \"personalized\"]]\n",
    "\n",
    "            #rows[\"sort_by\"] = rows[\"generic\"] + 3 * rows[\"personalized\"]\n",
    "            #rows = rows.sort_values([\"sort_by\"], ascending=False)\n",
    "            #rows.drop(columns=[\"sort_by\"])\n",
    "\n",
    "            if strat == \"accept\":\n",
    "                rows = rows.sort_values([\"personalized\", \"generic\", \"no\"], ascending=False)\n",
    "            else:\n",
    "                rows = rows.sort_values([\"no\", \"generic\", \"personalized\"], ascending=True)\n",
    "            width = 1 / len(rows)\n",
    "            group = strat.title().replace(\" \",\"\")\n",
    "            print(r\"\\newcommand{\\len%s}{%d}\" % (group, len(rows)), file=f)\n",
    "\n",
    "            for x in [\"no\", \"generic\", \"personalized\"]:\n",
    "                print(r\"\\newcommand{\\share%s%sAds}{%f}\" % (group, x.title(), rows[x].mean()), file=f)\n",
    "\n",
    "            print(r\"\\newcommand{\\data%s}{\" % group, file=f)\n",
    "            for i, row in rows.iterrows():\n",
    "                offset_y = 0\n",
    "                for typ in [\"no\", \"generic\", \"personalized\"]:\n",
    "                    val = row[typ]\n",
    "                    if val > 0:\n",
    "                        print(\n",
    "                            r\"    \\path[fill=%s-color] (%.4f,%.4f) rectangle (%.4f,%.4f);\" % (f\"{typ: >12}\", offset_x, offset_y,offset_x + width,offset_y + val),\n",
    "                            file=f\n",
    "                        )\n",
    "                    offset_y += val\n",
    "                offset_x += width\n",
    "                #print(share[share[\"Has Ads?\"] == \"personalized\"][\"% of websites\"])\n",
    "            print(\"}\", file=f)\n"
   ]
  },
  {
   "cell_type": "code",
   "execution_count": 24,
   "metadata": {
    "pycharm": {
     "name": "#%%\n"
    }
   },
   "outputs": [
    {
     "data": {
      "image/png": "[encoded data removed]",
      "text/plain": [
       "<Figure size 648x216 with 3 Axes>"
      ]
     },
     "metadata": {},
     "output_type": "display_data"
    }
   ],
   "source": [
    "aggs_means = aggs_long.groupby([\"Consent Strategy\", \"Has Ads?\"])[\"% of websites\"].mean().reset_index()\n",
    "g = sns.FacetGrid(aggs_means, col=\"Consent Strategy\", margin_titles=True, despine=False)\n",
    "g.map_dataframe(sns.barplot, \"Has Ads?\", \"% of websites\")\n",
    "\n",
    "plt.savefig('C:/Users/user/git/cookies/thesis/placeholders/admeasure-results.pdf')"
   ]
  },
  {
   "cell_type": "code",
   "execution_count": 25,
   "metadata": {
    "pycharm": {
     "name": "#%%\n"
    }
   },
   "outputs": [
    {
     "data": {
      "text/html": [
       "<div>\n",
       "<style scoped>\n",
       "    .dataframe tbody tr th:only-of-type {\n",
       "        vertical-align: middle;\n",
       "    }\n",
       "\n",
       "    .dataframe tbody tr th {\n",
       "        vertical-align: top;\n",
       "    }\n",
       "\n",
       "    .dataframe thead th {\n",
       "        text-align: right;\n",
       "    }\n",
       "</style>\n",
       "<table border=\"1\" class=\"dataframe\">\n",
       "  <thead>\n",
       "    <tr style=\"text-align: right;\">\n",
       "      <th></th>\n",
       "      <th>Consent Strategy</th>\n",
       "      <th>Has Ads?</th>\n",
       "      <th>% of websites</th>\n",
       "    </tr>\n",
       "  </thead>\n",
       "  <tbody>\n",
       "    <tr>\n",
       "      <th>0</th>\n",
       "      <td>accept</td>\n",
       "      <td>generic</td>\n",
       "      <td>0.501154</td>\n",
       "    </tr>\n",
       "    <tr>\n",
       "      <th>1</th>\n",
       "      <td>accept</td>\n",
       "      <td>no</td>\n",
       "      <td>0.283946</td>\n",
       "    </tr>\n",
       "    <tr>\n",
       "      <th>2</th>\n",
       "      <td>accept</td>\n",
       "      <td>personalized</td>\n",
       "      <td>0.214900</td>\n",
       "    </tr>\n",
       "    <tr>\n",
       "      <th>3</th>\n",
       "      <td>object legint</td>\n",
       "      <td>generic</td>\n",
       "      <td>0.304769</td>\n",
       "    </tr>\n",
       "    <tr>\n",
       "      <th>4</th>\n",
       "      <td>object legint</td>\n",
       "      <td>no</td>\n",
       "      <td>0.668779</td>\n",
       "    </tr>\n",
       "    <tr>\n",
       "      <th>5</th>\n",
       "      <td>object legint</td>\n",
       "      <td>personalized</td>\n",
       "      <td>0.026452</td>\n",
       "    </tr>\n",
       "    <tr>\n",
       "      <th>6</th>\n",
       "      <td>reject simple</td>\n",
       "      <td>generic</td>\n",
       "      <td>0.431069</td>\n",
       "    </tr>\n",
       "    <tr>\n",
       "      <th>7</th>\n",
       "      <td>reject simple</td>\n",
       "      <td>no</td>\n",
       "      <td>0.512632</td>\n",
       "    </tr>\n",
       "    <tr>\n",
       "      <th>8</th>\n",
       "      <td>reject simple</td>\n",
       "      <td>personalized</td>\n",
       "      <td>0.056299</td>\n",
       "    </tr>\n",
       "  </tbody>\n",
       "</table>\n",
       "</div>"
      ],
      "text/plain": [
       "  Consent Strategy      Has Ads?  % of websites\n",
       "0           accept       generic       0.501154\n",
       "1           accept            no       0.283946\n",
       "2           accept  personalized       0.214900\n",
       "3    object legint       generic       0.304769\n",
       "4    object legint            no       0.668779\n",
       "5    object legint  personalized       0.026452\n",
       "6    reject simple       generic       0.431069\n",
       "7    reject simple            no       0.512632\n",
       "8    reject simple  personalized       0.056299"
      ]
     },
     "execution_count": 25,
     "metadata": {},
     "output_type": "execute_result"
    }
   ],
   "source": [
    "aggs_long.groupby([\"Consent Strategy\", \"Has Ads?\"])[\"% of websites\"].mean().reset_index()"
   ]
  },
  {
   "cell_type": "code",
   "execution_count": 26,
   "metadata": {
    "pycharm": {
     "name": "#%%\n"
    }
   },
   "outputs": [
    {
     "data": {
      "text/html": [
       "<div>\n",
       "<style scoped>\n",
       "    .dataframe tbody tr th:only-of-type {\n",
       "        vertical-align: middle;\n",
       "    }\n",
       "\n",
       "    .dataframe tbody tr th {\n",
       "        vertical-align: top;\n",
       "    }\n",
       "\n",
       "    .dataframe thead th {\n",
       "        text-align: right;\n",
       "    }\n",
       "</style>\n",
       "<table border=\"1\" class=\"dataframe\">\n",
       "  <thead>\n",
       "    <tr style=\"text-align: right;\">\n",
       "      <th></th>\n",
       "      <th>ID</th>\n",
       "      <th>Consent Strategy</th>\n",
       "      <th>location</th>\n",
       "      <th>Has Ads?</th>\n",
       "      <th>% of websites</th>\n",
       "    </tr>\n",
       "  </thead>\n",
       "  <tbody>\n",
       "    <tr>\n",
       "      <th>0</th>\n",
       "      <td>1</td>\n",
       "      <td>accept</td>\n",
       "      <td>in class</td>\n",
       "      <td>personalized</td>\n",
       "      <td>0.372093</td>\n",
       "    </tr>\n",
       "    <tr>\n",
       "      <th>1</th>\n",
       "      <td>2</td>\n",
       "      <td>object legint</td>\n",
       "      <td>in class</td>\n",
       "      <td>personalized</td>\n",
       "      <td>0.000000</td>\n",
       "    </tr>\n",
       "    <tr>\n",
       "      <th>2</th>\n",
       "      <td>3</td>\n",
       "      <td>accept</td>\n",
       "      <td>in class</td>\n",
       "      <td>personalized</td>\n",
       "      <td>0.600000</td>\n",
       "    </tr>\n",
       "    <tr>\n",
       "      <th>3</th>\n",
       "      <td>4</td>\n",
       "      <td>object legint</td>\n",
       "      <td>in class</td>\n",
       "      <td>personalized</td>\n",
       "      <td>0.000000</td>\n",
       "    </tr>\n",
       "    <tr>\n",
       "      <th>4</th>\n",
       "      <td>5</td>\n",
       "      <td>accept</td>\n",
       "      <td>in class</td>\n",
       "      <td>personalized</td>\n",
       "      <td>0.040000</td>\n",
       "    </tr>\n",
       "    <tr>\n",
       "      <th>...</th>\n",
       "      <td>...</td>\n",
       "      <td>...</td>\n",
       "      <td>...</td>\n",
       "      <td>...</td>\n",
       "      <td>...</td>\n",
       "    </tr>\n",
       "    <tr>\n",
       "      <th>196</th>\n",
       "      <td>63</td>\n",
       "      <td>reject simple</td>\n",
       "      <td>from home (repeated)</td>\n",
       "      <td>no</td>\n",
       "      <td>0.666667</td>\n",
       "    </tr>\n",
       "    <tr>\n",
       "      <th>197</th>\n",
       "      <td>64</td>\n",
       "      <td>reject simple</td>\n",
       "      <td>from home (repeated)</td>\n",
       "      <td>no</td>\n",
       "      <td>0.326531</td>\n",
       "    </tr>\n",
       "    <tr>\n",
       "      <th>198</th>\n",
       "      <td>65</td>\n",
       "      <td>reject simple</td>\n",
       "      <td>from home (repeated)</td>\n",
       "      <td>no</td>\n",
       "      <td>0.632653</td>\n",
       "    </tr>\n",
       "    <tr>\n",
       "      <th>199</th>\n",
       "      <td>66</td>\n",
       "      <td>reject simple</td>\n",
       "      <td>from home (repeated)</td>\n",
       "      <td>no</td>\n",
       "      <td>0.660000</td>\n",
       "    </tr>\n",
       "    <tr>\n",
       "      <th>200</th>\n",
       "      <td>67</td>\n",
       "      <td>reject simple</td>\n",
       "      <td>from home (repeated)</td>\n",
       "      <td>no</td>\n",
       "      <td>0.560000</td>\n",
       "    </tr>\n",
       "  </tbody>\n",
       "</table>\n",
       "<p>201 rows × 5 columns</p>\n",
       "</div>"
      ],
      "text/plain": [
       "     ID Consent Strategy              location      Has Ads?  % of websites\n",
       "0     1           accept              in class  personalized       0.372093\n",
       "1     2    object legint              in class  personalized       0.000000\n",
       "2     3           accept              in class  personalized       0.600000\n",
       "3     4    object legint              in class  personalized       0.000000\n",
       "4     5           accept              in class  personalized       0.040000\n",
       "..   ..              ...                   ...           ...            ...\n",
       "196  63    reject simple  from home (repeated)            no       0.666667\n",
       "197  64    reject simple  from home (repeated)            no       0.326531\n",
       "198  65    reject simple  from home (repeated)            no       0.632653\n",
       "199  66    reject simple  from home (repeated)            no       0.660000\n",
       "200  67    reject simple  from home (repeated)            no       0.560000\n",
       "\n",
       "[201 rows x 5 columns]"
      ]
     },
     "execution_count": 26,
     "metadata": {},
     "output_type": "execute_result"
    }
   ],
   "source": [
    "aggs_long\n",
    "#g = sns.FacetGrid(aggs_long, col=\"Consent Strategy\", margin_titles=True, despine=False)\n",
    "#g.map_dataframe(sns.swarmplot, \"Has Ads?\", \"% of websites\")\n",
    "aggs_long"
   ]
  },
  {
   "cell_type": "code",
   "execution_count": 27,
   "metadata": {
    "pycharm": {
     "name": "#%%\n"
    }
   },
   "outputs": [
    {
     "name": "stdout",
     "output_type": "stream",
     "text": [
      "{'color': (0.2980392156862745, 0.4470588235294118, 0.6901960784313725)}\n",
      "{'color': (0.2980392156862745, 0.4470588235294118, 0.6901960784313725)}\n",
      "{'color': (0.2980392156862745, 0.4470588235294118, 0.6901960784313725)}\n"
     ]
    },
    {
     "data": {
      "text/plain": [
       "<seaborn.axisgrid.FacetGrid at 0x2d5cf78a5f0>"
      ]
     },
     "execution_count": 27,
     "metadata": {},
     "output_type": "execute_result"
    },
    {
     "data": {
      "image/png": "[encoded data removed]",
      "text/plain": [
       "<Figure size 648x216 with 3 Axes>"
      ]
     },
     "metadata": {},
     "output_type": "display_data"
    }
   ],
   "source": [
    "g = sns.FacetGrid(aggs, col=\"Consent Strategy\", margin_titles=True, despine=False)\n",
    "g.map_dataframe(lambda data, **kws: print(kws))\n"
   ]
  },
  {
   "cell_type": "code",
   "execution_count": 28,
   "metadata": {
    "pycharm": {
     "name": "#%%\n"
    }
   },
   "outputs": [
    {
     "data": {
      "text/plain": [
       "<seaborn.axisgrid.FacetGrid at 0x2d5cd2471c0>"
      ]
     },
     "execution_count": 28,
     "metadata": {},
     "output_type": "execute_result"
    },
    {
     "data": {
      "image/png": "[encoded data removed]",
      "text/plain": [
       "<Figure size 648x216 with 3 Axes>"
      ]
     },
     "metadata": {},
     "output_type": "display_data"
    }
   ],
   "source": [
    "g = sns.FacetGrid(df, col=\"Consent Strategy\", margin_titles=True, despine=False)\n",
    "g.map_dataframe(sns.histplot, \"Has Ads?\")"
   ]
  },
  {
   "cell_type": "code",
   "execution_count": 29,
   "metadata": {
    "pycharm": {
     "name": "#%%\n"
    }
   },
   "outputs": [
    {
     "data": {
      "text/plain": [
       "<seaborn.axisgrid.FacetGrid at 0x2d5d15c2f20>"
      ]
     },
     "execution_count": 29,
     "metadata": {},
     "output_type": "execute_result"
    },
    {
     "data": {
      "image/png": "[encoded data removed]",
      "text/plain": [
       "<Figure size 648x648 with 9 Axes>"
      ]
     },
     "metadata": {},
     "output_type": "display_data"
    }
   ],
   "source": [
    "g = sns.FacetGrid(df, col=\"Consent Strategy\", row=\"location\", margin_titles=True, despine=False, sharey=False)\n",
    "g.map_dataframe(sns.histplot, \"Has Ads?\")"
   ]
  },
  {
   "cell_type": "code",
   "execution_count": 30,
   "metadata": {
    "pycharm": {
     "name": "#%%\n"
    }
   },
   "outputs": [],
   "source": [
    "#sns.catplot(x=\"Has Ads?\", col=\"Consent Strategy\", hue=\"Browser Profile\", data=df, kind=\"count\")"
   ]
  }
 ],
 "metadata": {
  "kernelspec": {
   "display_name": "Python 3 (ipykernel)",
   "language": "python",
   "name": "python3"
  },
  "language_info": {
   "codemirror_mode": {
    "name": "ipython",
    "version": 3
   },
   "file_extension": ".py",
   "mimetype": "text/x-python",
   "name": "python",
   "nbconvert_exporter": "python",
   "pygments_lexer": "ipython3",
   "version": "3.10.4"
  }
 },
 "nbformat": 4,
 "nbformat_minor": 1
}
